{
  "nbformat": 4,
  "nbformat_minor": 0,
  "metadata": {
    "colab": {
      "provenance": [],
      "include_colab_link": true
    },
    "kernelspec": {
      "name": "python3",
      "display_name": "Python 3"
    },
    "language_info": {
      "name": "python"
    }
  },
  "cells": [
    {
      "cell_type": "markdown",
      "metadata": {
        "id": "view-in-github",
        "colab_type": "text"
      },
      "source": [
        "<a href=\"https://colab.research.google.com/github/justra1/Project-1_Coding/blob/main/06Film.ipynb\" target=\"_parent\"><img src=\"https://colab.research.google.com/assets/colab-badge.svg\" alt=\"Open In Colab\"/></a>"
      ]
    },
    {
      "cell_type": "markdown",
      "source": [
        "# **เลขที่ 6 ฟิล์ม นายนิติวัฒน์ กันทะวะ**\n",
        "No.6 Film Nitiwat kantawa"
      ],
      "metadata": {
        "id": "0WB3yV_scUbZ"
      }
    },
    {
      "cell_type": "code",
      "source": [
        "ios@2 = i\n",
        "print()"
      ],
      "metadata": {
        "id": "W3joFI61sErf"
      },
      "execution_count": null,
      "outputs": []
    },
    {
      "cell_type": "code",
      "source": [
        "print ('Sawadee Film')"
      ],
      "metadata": {
        "colab": {
          "base_uri": "https://localhost:8080/"
        },
        "id": "1-PurkQ6BFyt",
        "outputId": "89ae76fd-96cb-46c4-e91b-883f8f4d607f"
      },
      "execution_count": null,
      "outputs": [
        {
          "output_type": "stream",
          "name": "stdout",
          "text": [
            "Sawadee Film\n"
          ]
        }
      ]
    },
    {
      "cell_type": "code",
      "source": [
        "print (\"I want to ask you \\\"Why don't you drive to work\\\"\")"
      ],
      "metadata": {
        "colab": {
          "base_uri": "https://localhost:8080/"
        },
        "id": "XAWQY7pObhkq",
        "outputId": "4768d0ee-fcf1-41c3-de27-37e64fae6256"
      },
      "execution_count": null,
      "outputs": [
        {
          "output_type": "stream",
          "name": "stdout",
          "text": [
            "I want to ask you \"Why don't you drive to work\"\n"
          ]
        }
      ]
    },
    {
      "cell_type": "markdown",
      "source": [],
      "metadata": {
        "id": "J4FbayJIb3o4"
      }
    },
    {
      "cell_type": "markdown",
      "source": [
        "#29 May 2024\n",
        " คำสั่งแสดงประเภทของข้อมูล คือ type"
      ],
      "metadata": {
        "id": "Y5dfq4OPZL0P"
      }
    },
    {
      "cell_type": "code",
      "source": [
        "a = 2\n",
        "b = 1.5\n",
        "c = \"M.4/4\"\n",
        "type(c)\n",
        "\n",
        "print (\"ตัวแปรที่ฉันคิด คือ Film\")"
      ],
      "metadata": {
        "colab": {
          "base_uri": "https://localhost:8080/"
        },
        "id": "Bmaqf7nTaBM7",
        "outputId": "55df72e6-afa1-4f19-ab33-9de5e9330354"
      },
      "execution_count": null,
      "outputs": [
        {
          "output_type": "stream",
          "name": "stdout",
          "text": [
            "ตัวแปรที่ฉันคิด คือ Film\n"
          ]
        }
      ]
    },
    {
      "cell_type": "code",
      "source": [
        "numeric1 = 5\n",
        "print(f'{numeric1}')\n",
        "type(numeric1)"
      ],
      "metadata": {
        "colab": {
          "base_uri": "https://localhost:8080/"
        },
        "id": "FaU5gehpkVdR",
        "outputId": "9483521e-74bb-4189-87cb-bf47d7f41fda"
      },
      "execution_count": null,
      "outputs": [
        {
          "output_type": "stream",
          "name": "stdout",
          "text": [
            "5\n"
          ]
        },
        {
          "output_type": "execute_result",
          "data": {
            "text/plain": [
              "int"
            ]
          },
          "metadata": {},
          "execution_count": 3
        }
      ]
    },
    {
      "cell_type": "code",
      "source": [
        "string1 = 'Python'\n",
        "print (string1[0])"
      ],
      "metadata": {
        "colab": {
          "base_uri": "https://localhost:8080/"
        },
        "id": "fFEJNrjxYd-M",
        "outputId": "4ea9deb8-87af-4d2a-9eeb-3df7345a4b9a"
      },
      "execution_count": null,
      "outputs": [
        {
          "output_type": "stream",
          "name": "stdout",
          "text": [
            "p\n"
          ]
        }
      ]
    },
    {
      "cell_type": "markdown",
      "source": [
        " ## 5 June 2024\n",
        "\n",
        "ได้เรียนเกี่ยวกับ index ของ str , ชนิดของ data number และ string\n",
        "ระบบคอมพิวเตอร์ อย่าง input process output"
      ],
      "metadata": {
        "id": "0aslXtGNb7GN"
      }
    },
    {
      "cell_type": "markdown",
      "source": [
        "input = 'Python'\n",
        "\n",
        "process = print index0 ของPython\n",
        "\n",
        "output = P"
      ],
      "metadata": {
        "id": "uJwE8LOeiTDv"
      }
    },
    {
      "cell_type": "markdown",
      "source": [
        "# 26 June 2024"
      ],
      "metadata": {
        "id": "EOqVScvHWvjc"
      }
    },
    {
      "cell_type": "code",
      "source": [
        "name = input('กรุณาใส่ชื่อผู้กรอก:')\n",
        "square = int(input('กรุณากรอกความยาวด้านสี่เหลี่ยมจัตุรัส(cm):'))\n",
        "side = square ** 2\n",
        "print('ชื่อของคุณคือ' + ' ' + name)\n",
        "print('ความยาวด้านของสี่เหลี่ยมจัตุรัสของคุณ' +' ' + str(side) + 'cm')"
      ],
      "metadata": {
        "colab": {
          "base_uri": "https://localhost:8080/"
        },
        "id": "dHzZ_wQkumru",
        "outputId": "20d62f3e-bda1-4e30-b54a-5f762ef0ec1c"
      },
      "execution_count": null,
      "outputs": [
        {
          "output_type": "stream",
          "name": "stdout",
          "text": [
            "กรุณาใส่ชื่อผู้กรอก:Film\n",
            "กรุณากรอกความยาวด้าน5\n",
            "ชื่อของคุณคือ Film\n",
            "ความยาวด้านของสี่เหลี่ยมจัตุรัสของคุณ 25cm\n"
          ]
        }
      ]
    },
    {
      "cell_type": "markdown",
      "source": [
        "# 1 July 2024"
      ],
      "metadata": {
        "id": "oM7aU2F1U2vj"
      }
    },
    {
      "cell_type": "code",
      "source": [
        "print('Find rectangle area (m)')\n",
        "square = int(input('height:'))\n",
        "square1 = int(input('Wide:'))\n",
        "Area = square * square1\n",
        "print(f'Rectangle area: {Area} m^2')"
      ],
      "metadata": {
        "colab": {
          "base_uri": "https://localhost:8080/"
        },
        "id": "2juroaoAPqRp",
        "outputId": "111f38b1-f799-42e0-adb8-3986f3d8e8d9"
      },
      "execution_count": null,
      "outputs": [
        {
          "output_type": "stream",
          "name": "stdout",
          "text": [
            "Find rectangle area (m)\n",
            "height:78\n",
            "Wide:90\n",
            "Rectangle area: 7020 m^2\n"
          ]
        }
      ]
    },
    {
      "cell_type": "code",
      "source": [
        "print('Find velocity (m/s)')\n",
        "distance = int(input('Distance:'))\n",
        "t = int(input('Time:'))\n",
        "v = distance / t\n",
        "print(f'Velocity is {v} m/s')"
      ],
      "metadata": {
        "colab": {
          "base_uri": "https://localhost:8080/"
        },
        "id": "J1l5lYT_Rv1n",
        "outputId": "2246f9d7-5cf6-4a7f-a8f1-a5f558b3310e"
      },
      "execution_count": null,
      "outputs": [
        {
          "output_type": "stream",
          "name": "stdout",
          "text": [
            "Find velocity (m/s)\n",
            "Distance:5\n",
            "Time:5\n",
            "Velocity is 1.0 m/s\n"
          ]
        }
      ]
    },
    {
      "cell_type": "code",
      "source": [
        "print ('Welcome to BMI calculator')\n",
        "name = input('Your name:')\n",
        "weight = float(input('Weight (kg):'))\n",
        "height = float(input('Height (m):'))\n",
        "cal =  weight / (height ** 2)\n",
        "if cal <= 18.5:\n",
        "  print(f'{name}BMI is {cal} below the threshold')\n",
        "elif cal >= 18.5:\n",
        "  print(f'{name}BMI is {cal} balace')\n",
        "elif cal > 23:\n",
        "  print(f'{name}BMI is {cal} overweight')\n",
        "else :\n",
        "  print(f'{name}BMI is {cal} fat')\n",
        "\n",
        "print('Coding by Nitiwat Kantawa')"
      ],
      "metadata": {
        "colab": {
          "base_uri": "https://localhost:8080/"
        },
        "id": "ZXtaA-lsYrEY",
        "outputId": "ecae92ad-43bc-45f7-d0a5-9b245266f5f3"
      },
      "execution_count": null,
      "outputs": [
        {
          "output_type": "stream",
          "name": "stdout",
          "text": [
            "Welcome to BMI calculator\n",
            "Your name:Film\n",
            "Weight (kg):95\n",
            "Height (m):1.78\n",
            "FilmBMI is 29.983587930816814 balace\n",
            "Coding by Nitiwat Kantawa\n"
          ]
        }
      ]
    }
  ]
}